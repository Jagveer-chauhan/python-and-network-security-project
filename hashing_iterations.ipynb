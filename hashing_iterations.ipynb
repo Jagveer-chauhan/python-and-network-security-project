{
  "nbformat": 4,
  "nbformat_minor": 0,
  "metadata": {
    "colab": {
      "name": "Untitled4.ipynb",
      "provenance": [],
      "authorship_tag": "ABX9TyMjANViBAggze1Ui3hzWoH/"
    },
    "kernelspec": {
      "name": "python3",
      "display_name": "Python 3"
    },
    "language_info": {
      "name": "python"
    }
  },
  "cells": [
    {
      "cell_type": "code",
      "metadata": {
        "id": "KP0cm707qACv"
      },
      "source": [
        "import hashlib\n",
        "hashing_output=0\n",
        "#taking user input\n",
        "string=input()\n",
        "salt='abcd'\n",
        "#adding salt to user input\n",
        "data=string+salt\n",
        "def hashing(x):\n",
        "    result=hashlib.md5(x.encode())\n",
        "    print('\\n',result.hexdigest())\n",
        "    global hashing_output\n",
        "    hashing_output= result.hexdigest()\n",
        "#for iteration of hashing\n",
        "iteration=int(input('how many times you want to iterate the hashing \\n'))\n",
        "hashing(data)\n",
        "for i in range(iteration):\n",
        "    x=hashing_output\n",
        "    hashing(hashing_output)"
      ],
      "execution_count": null,
      "outputs": []
    }
  ]
}