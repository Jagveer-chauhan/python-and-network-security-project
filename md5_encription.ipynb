{
  "nbformat": 4,
  "nbformat_minor": 0,
  "metadata": {
    "colab": {
      "name": "Untitled2.ipynb",
      "provenance": [],
      "authorship_tag": "ABX9TyPJqsjc4qZ/lUhS5UpQwOst"
    },
    "kernelspec": {
      "name": "python3",
      "display_name": "Python 3"
    },
    "language_info": {
      "name": "python"
    }
  },
  "cells": [
    {
      "cell_type": "code",
      "metadata": {
        "id": "lL8WtzDb1U72"
      },
      "source": [
        "import hashlib\n",
        "string =input()\n",
        "result=hashlib.md5(string.encode())\n",
        "print(result.hexdigest())"
      ],
      "execution_count": null,
      "outputs": []
    }
  ]
}