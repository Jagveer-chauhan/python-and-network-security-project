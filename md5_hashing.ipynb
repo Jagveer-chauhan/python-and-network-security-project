{
  "nbformat": 4,
  "nbformat_minor": 0,
  "metadata": {
    "colab": {
      "name": "Untitled2.ipynb",
      "provenance": [],
      "authorship_tag": "ABX9TyPJqsjc4qZ/lUhS5UpQwOst",
      "include_colab_link": true
    },
    "kernelspec": {
      "name": "python3",
      "display_name": "Python 3"
    },
    "language_info": {
      "name": "python"
    }
  },
  "cells": [
    {
      "cell_type": "markdown",
      "metadata": {
        "id": "view-in-github",
        "colab_type": "text"
      },
      "source": [
        "<a href=\"https://colab.research.google.com/github/Jagveer-chauhan/python-and-network-security-project/blob/main/md5_hashing.ipynb\" target=\"_parent\"><img src=\"https://colab.research.google.com/assets/colab-badge.svg\" alt=\"Open In Colab\"/></a>"
      ]
    },
    {
      "cell_type": "code",
      "metadata": {
        "id": "lL8WtzDb1U72"
      },
      "source": [
        "import hashlib\n",
        "string =input()\n",
        "result=hashlib.md5(string.encode())\n",
        "print(result.hexdigest())"
      ],
      "execution_count": null,
      "outputs": []
    }
  ]
}