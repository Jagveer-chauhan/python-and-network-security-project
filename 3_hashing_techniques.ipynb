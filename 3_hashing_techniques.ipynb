{
  "nbformat": 4,
  "nbformat_minor": 0,
  "metadata": {
    "colab": {
      "name": "Untitled3.ipynb",
      "provenance": [],
      "authorship_tag": "ABX9TyOtptB+9z5mRPYpsBrKhvow"
    },
    "kernelspec": {
      "name": "python3",
      "display_name": "Python 3"
    },
    "language_info": {
      "name": "python"
    }
  },
  "cells": [
    {
      "cell_type": "code",
      "metadata": {
        "id": "J-3sqoO9MBI8"
      },
      "source": [
        "import hashlib\n",
        "string =input()\n",
        "#encryption using md5 hashing\n",
        "result=hashlib.md5(string.encode())\n",
        "print('encryption using md5 hashing \\n',result.hexdigest())\n",
        "#encryption using sha512 hashing\n",
        "result =hashlib.sha512( string.encode())\n",
        "print('encryption using sha512 hashing \\n',result.hexdigest())\n",
        "#encryption using blake2s hashing\n",
        "result=hashlib.blake2s(string.encode())\n",
        "print('encryption using blake2s hashing \\n',result.hexdigest())"
      ],
      "execution_count": null,
      "outputs": []
    }
  ]
}