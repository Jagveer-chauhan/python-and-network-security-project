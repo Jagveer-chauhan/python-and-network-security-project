{
  "nbformat": 4,
  "nbformat_minor": 0,
  "metadata": {
    "colab": {
      "name": "Untitled3.ipynb",
      "provenance": [],
      "authorship_tag": "ABX9TyOtptB+9z5mRPYpsBrKhvow"
    },
    "kernelspec": {
      "name": "python3",
      "display_name": "Python 3"
    },
    "language_info": {
      "name": "python"
    }
  },
  "cells": [
    {
      "cell_type": "code",
      "metadata": {
        "colab": {
          "base_uri": "https://localhost:8080/"
        },
        "id": "J-3sqoO9MBI8",
        "outputId": "38f14400-5445-41c1-8d4e-934c8edc540e"
      },
      "source": [
        "import hashlib\n",
        "string =input()\n",
        "#encryption using md5 hashing\n",
        "result=hashlib.md5(string.encode())\n",
        "print('encryption using md5 hashing \\n',result.hexdigest())\n",
        "#encryption using sha512 hashing\n",
        "result =hashlib.sha512( string.encode())\n",
        "print('encryption using sha512 hashing \\n',result.hexdigest())\n",
        "#encryption using blake2s hashing\n",
        "result=hashlib.blake2s(string.encode())\n",
        "print('encryption using blake2s hashing \\n',result.hexdigest())"
      ],
      "execution_count": 19,
      "outputs": [
        {
          "output_type": "stream",
          "text": [
            "Hi\n",
            "encryption using md5 hashing \n",
            " c1a5298f939e87e8f962a5edfc206918\n",
            "encryption using sha512 hashing \n",
            " 45ca55ccaa72b98b86c697fdf73fd364d4815a586f76cd326f1785bb816ff7f1f88b46fb8448b19356ee788eb7d300b9392709a289428070b5810d9b5c2d440d\n",
            "encryption using blake2s hashing \n",
            " 524a4a5053353453042990a647369bee33c5224efda28bd41e66c3ca5331bce1\n"
          ],
          "name": "stdout"
        }
      ]
    }
  ]
}